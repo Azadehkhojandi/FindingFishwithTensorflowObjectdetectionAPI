{
 "cells": [
  {
   "cell_type": "code",
   "execution_count": 1,
   "metadata": {},
   "outputs": [
    {
     "name": "stdout",
     "output_type": "stream",
     "text": [
      "Requirement already satisfied: imageio in /data/anaconda/envs/py35/lib/python3.5/site-packages (2.3.0)\r\n",
      "Requirement already satisfied: numpy in /data/anaconda/envs/py35/lib/python3.5/site-packages (from imageio) (1.14.5)\r\n",
      "Requirement already satisfied: pillow in /data/anaconda/envs/py35/lib/python3.5/site-packages (from imageio) (5.1.0)\r\n"
     ]
    }
   ],
   "source": [
    "import sys\n",
    "! {sys.executable} -m pip install imageio"
   ]
  },
  {
   "cell_type": "code",
   "execution_count": 4,
   "metadata": {},
   "outputs": [
    {
     "name": "stdout",
     "output_type": "stream",
     "text": [
      "frame_0.jpg\t frame_17250.jpg  frame_24750.jpg  frame_8200.jpg\r\n",
      "frame_10000.jpg  frame_17500.jpg  frame_25000.jpg  frame_8205.jpg\r\n",
      "frame_1000.jpg\t frame_1750.jpg   frame_2500.jpg   frame_8210.jpg\r\n",
      "frame_10250.jpg  frame_17750.jpg  frame_250.jpg    frame_8215.jpg\r\n",
      "frame_10500.jpg  frame_18000.jpg  frame_25250.jpg  frame_8220.jpg\r\n",
      "frame_10750.jpg  frame_18250.jpg  frame_25500.jpg  frame_8225.jpg\r\n",
      "frame_11000.jpg  frame_18500.jpg  frame_25750.jpg  frame_8230.jpg\r\n",
      "frame_11250.jpg  frame_18750.jpg  frame_26000.jpg  frame_8235.jpg\r\n",
      "frame_11500.jpg  frame_19000.jpg  frame_26250.jpg  frame_8240.jpg\r\n",
      "frame_11750.jpg  frame_19250.jpg  frame_2750.jpg   frame_8245.jpg\r\n",
      "frame_12000.jpg  frame_19500.jpg  frame_3000.jpg   frame_8250.jpg\r\n",
      "frame_12250.jpg  frame_19750.jpg  frame_3250.jpg   frame_8255.jpg\r\n",
      "frame_12500.jpg  frame_20000.jpg  frame_3500.jpg   frame_8260.jpg\r\n",
      "frame_1250.jpg\t frame_2000.jpg   frame_3750.jpg   frame_8265.jpg\r\n",
      "frame_12750.jpg  frame_20250.jpg  frame_4000.jpg   frame_8270.jpg\r\n",
      "frame_13000.jpg  frame_20500.jpg  frame_4250.jpg   frame_8275.jpg\r\n",
      "frame_13250.jpg  frame_20750.jpg  frame_4500.jpg   frame_8280.jpg\r\n",
      "frame_13500.jpg  frame_21000.jpg  frame_4750.jpg   frame_8285.jpg\r\n",
      "frame_13750.jpg  frame_21250.jpg  frame_5000.jpg   frame_8290.jpg\r\n",
      "frame_14000.jpg  frame_21500.jpg  frame_500.jpg    frame_8295.jpg\r\n",
      "frame_14250.jpg  frame_21750.jpg  frame_5250.jpg   frame_8300.jpg\r\n",
      "frame_14500.jpg  frame_22000.jpg  frame_5500.jpg   frame_8305.jpg\r\n",
      "frame_14750.jpg  frame_22250.jpg  frame_5750.jpg   frame_8310.jpg\r\n",
      "frame_15000.jpg  frame_22500.jpg  frame_6000.jpg   frame_8315.jpg\r\n",
      "frame_1500.jpg\t frame_2250.jpg   frame_6250.jpg   frame_8320.jpg\r\n",
      "frame_15250.jpg  frame_22750.jpg  frame_6500.jpg   frame_8325.jpg\r\n",
      "frame_15500.jpg  frame_23000.jpg  frame_6750.jpg   frame_8500.jpg\r\n",
      "frame_15750.jpg  frame_23250.jpg  frame_7000.jpg   frame_8750.jpg\r\n",
      "frame_16000.jpg  frame_23500.jpg  frame_7250.jpg   frame_9000.jpg\r\n",
      "frame_16250.jpg  frame_23750.jpg  frame_7500.jpg   frame_9250.jpg\r\n",
      "frame_16500.jpg  frame_24000.jpg  frame_750.jpg    frame_9500.jpg\r\n",
      "frame_16750.jpg  frame_24250.jpg  frame_7750.jpg   frame_9750.jpg\r\n",
      "frame_17000.jpg  frame_24500.jpg  frame_8000.jpg\r\n"
     ]
    }
   ],
   "source": [
    "path = 'fishdata/test_Frames'\n",
    "! ls {path}"
   ]
  },
  {
   "cell_type": "code",
   "execution_count": 22,
   "metadata": {},
   "outputs": [],
   "source": [
    "filenames=[]\n",
    "for i in range(0,26500,250):\n",
    "    filenames.append('frame_%d.jpg' %i)"
   ]
  },
  {
   "cell_type": "code",
   "execution_count": 16,
   "metadata": {},
   "outputs": [],
   "source": [
    "import imageio\n",
    "import os\n",
    "\n",
    "\n",
    "images = list(map(lambda filename: imageio.imread(os.path.join(path,filename)), filenames))\n",
    "resultpath = 'fishdata/test_Frames.gif'\n",
    "imageio.mimsave(resultpath, images, duration = 0.4) # modify duration as needed"
   ]
  },
  {
   "cell_type": "markdown",
   "metadata": {},
   "source": [
    "<img src=\"fishdata/test_Frames.gif\" width=\"50%\" height=\"50%\">"
   ]
  },
  {
   "cell_type": "code",
   "execution_count": 24,
   "metadata": {},
   "outputs": [
    {
     "name": "stdout",
     "output_type": "stream",
     "text": [
      "frame_0.jpg\t frame_15750.jpg  frame_22000.jpg  frame_4250.jpg\r\n",
      "frame_10000.jpg  frame_16000.jpg  frame_22250.jpg  frame_4500.jpg\r\n",
      "frame_1000.jpg\t frame_16250.jpg  frame_22500.jpg  frame_4750.jpg\r\n",
      "frame_10250.jpg  frame_16500.jpg  frame_2250.jpg   frame_5000.jpg\r\n",
      "frame_10500.jpg  frame_16750.jpg  frame_22750.jpg  frame_500.jpg\r\n",
      "frame_10750.jpg  frame_17000.jpg  frame_23000.jpg  frame_5250.jpg\r\n",
      "frame_11000.jpg  frame_17250.jpg  frame_23250.jpg  frame_5500.jpg\r\n",
      "frame_11250.jpg  frame_17500.jpg  frame_23500.jpg  frame_5750.jpg\r\n",
      "frame_11500.jpg  frame_1750.jpg   frame_23750.jpg  frame_6000.jpg\r\n",
      "frame_11750.jpg  frame_17750.jpg  frame_24000.jpg  frame_6250.jpg\r\n",
      "frame_12000.jpg  frame_18000.jpg  frame_24250.jpg  frame_6500.jpg\r\n",
      "frame_12250.jpg  frame_18250.jpg  frame_24500.jpg  frame_6750.jpg\r\n",
      "frame_12500.jpg  frame_18500.jpg  frame_24750.jpg  frame_7000.jpg\r\n",
      "frame_1250.jpg\t frame_18750.jpg  frame_25000.jpg  frame_7250.jpg\r\n",
      "frame_12750.jpg  frame_19000.jpg  frame_2500.jpg   frame_7500.jpg\r\n",
      "frame_13000.jpg  frame_19250.jpg  frame_250.jpg    frame_750.jpg\r\n",
      "frame_13250.jpg  frame_19500.jpg  frame_25250.jpg  frame_7750.jpg\r\n",
      "frame_13500.jpg  frame_19750.jpg  frame_25500.jpg  frame_8000.jpg\r\n",
      "frame_13750.jpg  frame_20000.jpg  frame_25750.jpg  frame_8250.jpg\r\n",
      "frame_14000.jpg  frame_2000.jpg   frame_26000.jpg  frame_8500.jpg\r\n",
      "frame_14250.jpg  frame_20250.jpg  frame_26250.jpg  frame_8750.jpg\r\n",
      "frame_14500.jpg  frame_20500.jpg  frame_2750.jpg   frame_9000.jpg\r\n",
      "frame_14750.jpg  frame_20750.jpg  frame_3000.jpg   frame_9250.jpg\r\n",
      "frame_15000.jpg  frame_21000.jpg  frame_3250.jpg   frame_9500.jpg\r\n",
      "frame_1500.jpg\t frame_21250.jpg  frame_3500.jpg   frame_9750.jpg\r\n",
      "frame_15250.jpg  frame_21500.jpg  frame_3750.jpg\r\n",
      "frame_15500.jpg  frame_21750.jpg  frame_4000.jpg\r\n"
     ]
    }
   ],
   "source": [
    "test_Frames_fastrcnn_result = 'fishdata/test_Frames_fastrcnn_result'\n",
    "! ls {test_Frames_fastrcnn_result}"
   ]
  },
  {
   "cell_type": "code",
   "execution_count": 25,
   "metadata": {},
   "outputs": [],
   "source": [
    "import imageio\n",
    "import os\n",
    "\n",
    "images = list(map(lambda filename: imageio.imread(os.path.join(test_Frames_fastrcnn_result,filename)), filenames))\n",
    "resultpath = 'fishdata/test_Frames_fastrcnn.gif'\n",
    "imageio.mimsave(resultpath, images, duration = 0.4) # modify duration as needed"
   ]
  },
  {
   "cell_type": "markdown",
   "metadata": {},
   "source": [
    "<img src=\"fishdata/test_Frames_fastrcnn.gif\" width=\"50%\" height=\"50%\">"
   ]
  },
  {
   "cell_type": "code",
   "execution_count": null,
   "metadata": {},
   "outputs": [],
   "source": []
  }
 ],
 "metadata": {
  "kernelspec": {
   "display_name": "Python 3",
   "language": "python",
   "name": "python3"
  },
  "language_info": {
   "codemirror_mode": {
    "name": "ipython",
    "version": 3
   },
   "file_extension": ".py",
   "mimetype": "text/x-python",
   "name": "python",
   "nbconvert_exporter": "python",
   "pygments_lexer": "ipython3",
   "version": "3.5.5"
  }
 },
 "nbformat": 4,
 "nbformat_minor": 2
}
