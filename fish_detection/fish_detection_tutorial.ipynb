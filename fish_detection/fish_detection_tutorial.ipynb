{
 "cells": [
  {
   "cell_type": "code",
   "execution_count": 1,
   "metadata": {},
   "outputs": [
    {
     "name": "stdout",
     "output_type": "stream",
     "text": [
      "/anaconda/envs/py35/bin/python\n",
      "/data/home/azfishvm/notebooks/FindingFishwithTensorflowObjectdetectionAPI/models/research/\n",
      "['', '/opt/caffe/python', '/opt/caffe2/build', '/data/home/azfishvm/notebooks/FindingFishwithTensorflowObjectdetectionAPI/models/research/object_detection/fish_detection', '/anaconda/envs/py35/lib/python35.zip', '/anaconda/envs/py35/lib/python3.5', '/anaconda/envs/py35/lib/python3.5/plat-linux', '/anaconda/envs/py35/lib/python3.5/lib-dynload', '/home/azfishvm/.local/lib/python3.5/site-packages', '/anaconda/envs/py35/lib/python3.5/site-packages', '/anaconda/envs/py35/lib/python3.5/site-packages/dlib-19.15.0-py3.5-linux-x86_64.egg', '/anaconda/envs/py35/lib/python3.5/site-packages/xgboost-0.80-py3.5.egg', '/anaconda/envs/py35/lib/python3.5/site-packages/mxnet-1.3.0-py3.5.egg', '/anaconda/envs/py35/lib/python3.5/site-packages/graphviz-0.8.4-py3.5.egg', '/anaconda/envs/py35/lib/python3.5/site-packages/requests-2.18.4-py3.5.egg', '/anaconda/envs/py35/lib/python3.5/site-packages/numpy-1.15.0-py3.5-linux-x86_64.egg', '/anaconda/envs/py35/lib/python3.5/site-packages/tf2onnx-0.0.3.0-py3.5.egg', '/anaconda/envs/py35/lib/python3.5/site-packages/pycocotools-2.0-py3.5-linux-x86_64.egg', '/anaconda/envs/py35/lib/python3.5/site-packages/object_detection-0.1-py3.5.egg', '/data/home/azfishvm/notebooks/FindingFishwithTensorflowObjectdetectionAPI/models/research/slim', '/data/anaconda/envs/py35/lib/python3.5/site-packages', '/anaconda/envs/py35/lib/python3.5/site-packages/torchvision-0.2.1-py3.5.egg', '/anaconda/envs/py35/lib/python3.5/site-packages/IPython/extensions', '/data/home/azfishvm/.ipython', '/data/home/azfishvm/notebooks/FindingFishwithTensorflowObjectdetectionAPI/models/research/', '/data/home/azfishvm/notebooks/FindingFishwithTensorflowObjectdetectionAPI/models/research/object_detection']\n"
     ]
    }
   ],
   "source": [
    "import sys\n",
    "print(sys.executable)\n",
    "\n",
    "import os\n",
    "print(os.getcwd().replace('object_detection/fish_detection',''))\n",
    "sys.path.append(os.getcwd().replace('object_detection/fish_detection',''))\n",
    "sys.path.append(os.getcwd().replace('/fish_detection',''))\n",
    "print(sys.path)"
   ]
  },
  {
   "cell_type": "markdown",
   "metadata": {
    "colab_type": "text",
    "id": "V8-yl-s-WKMG"
   },
   "source": [
    "# Object Detection Demo\n",
    "Welcome to the object detection inference walkthrough!  This notebook will walk you step by step through the process of using a pre-trained model to detect objects in an image. Make sure to follow the [installation instructions](https://github.com/tensorflow/models/blob/master/research/object_detection/g3doc/installation.md) before you start."
   ]
  },
  {
   "cell_type": "markdown",
   "metadata": {
    "colab_type": "text",
    "id": "kFSqkTCdWKMI"
   },
   "source": [
    "# Imports"
   ]
  },
  {
   "cell_type": "code",
   "execution_count": 2,
   "metadata": {
    "colab": {
     "autoexec": {
      "startup": false,
      "wait_interval": 0
     }
    },
    "colab_type": "code",
    "id": "hV4P5gyTWKMI"
   },
   "outputs": [
    {
     "name": "stderr",
     "output_type": "stream",
     "text": [
      "/anaconda/envs/py35/lib/python3.5/site-packages/h5py/__init__.py:36: FutureWarning: Conversion of the second argument of issubdtype from `float` to `np.floating` is deprecated. In future, it will be treated as `np.float64 == np.dtype(float).type`.\n",
      "  from ._conv import register_converters as _register_converters\n"
     ]
    }
   ],
   "source": [
    "import numpy as np\n",
    "import os\n",
    "import six.moves.urllib as urllib\n",
    "import sys\n",
    "import tarfile\n",
    "import tensorflow as tf\n",
    "import zipfile\n",
    "\n",
    "from distutils.version import StrictVersion\n",
    "from collections import defaultdict\n",
    "from io import StringIO\n",
    "from matplotlib import pyplot as plt\n",
    "from PIL import Image\n",
    "\n",
    "# This is needed since the notebook is stored in the object_detection folder.\n",
    "sys.path.append(\"..\")\n",
    "from object_detection.utils import ops as utils_ops\n",
    "\n",
    "if StrictVersion(tf.__version__) < StrictVersion('1.9.0'):\n",
    "  raise ImportError('Please upgrade your TensorFlow installation to v1.9.* or later!')\n"
   ]
  },
  {
   "cell_type": "markdown",
   "metadata": {
    "colab_type": "text",
    "id": "Wy72mWwAWKMK"
   },
   "source": [
    "## Env setup"
   ]
  },
  {
   "cell_type": "code",
   "execution_count": 3,
   "metadata": {
    "colab": {
     "autoexec": {
      "startup": false,
      "wait_interval": 0
     }
    },
    "colab_type": "code",
    "id": "v7m_NY_aWKMK"
   },
   "outputs": [],
   "source": [
    "# This is needed to display the images.\n",
    "%matplotlib inline"
   ]
  },
  {
   "cell_type": "markdown",
   "metadata": {
    "colab_type": "text",
    "id": "r5FNuiRPWKMN"
   },
   "source": [
    "## Object detection imports\n",
    "Here are the imports from the object detection module."
   ]
  },
  {
   "cell_type": "code",
   "execution_count": 4,
   "metadata": {
    "colab": {
     "autoexec": {
      "startup": false,
      "wait_interval": 0
     }
    },
    "colab_type": "code",
    "id": "bm0_uNRnWKMN"
   },
   "outputs": [
    {
     "name": "stderr",
     "output_type": "stream",
     "text": [
      "/anaconda/envs/py35/lib/python3.5/site-packages/object_detection-0.1-py3.5.egg/object_detection/utils/visualization_utils.py:27: UserWarning: \n",
      "This call to matplotlib.use() has no effect because the backend has already\n",
      "been chosen; matplotlib.use() must be called *before* pylab, matplotlib.pyplot,\n",
      "or matplotlib.backends is imported for the first time.\n",
      "\n",
      "The backend was *originally* set to 'module://ipykernel.pylab.backend_inline' by the following code:\n",
      "  File \"/anaconda/envs/py35/lib/python3.5/runpy.py\", line 193, in _run_module_as_main\n",
      "    \"__main__\", mod_spec)\n",
      "  File \"/anaconda/envs/py35/lib/python3.5/runpy.py\", line 85, in _run_code\n",
      "    exec(code, run_globals)\n",
      "  File \"/anaconda/envs/py35/lib/python3.5/site-packages/ipykernel_launcher.py\", line 16, in <module>\n",
      "    app.launch_new_instance()\n",
      "  File \"/anaconda/envs/py35/lib/python3.5/site-packages/traitlets/config/application.py\", line 658, in launch_instance\n",
      "    app.start()\n",
      "  File \"/anaconda/envs/py35/lib/python3.5/site-packages/ipykernel/kernelapp.py\", line 486, in start\n",
      "    self.io_loop.start()\n",
      "  File \"/anaconda/envs/py35/lib/python3.5/site-packages/tornado/platform/asyncio.py\", line 127, in start\n",
      "    self.asyncio_loop.run_forever()\n",
      "  File \"/anaconda/envs/py35/lib/python3.5/asyncio/base_events.py\", line 421, in run_forever\n",
      "    self._run_once()\n",
      "  File \"/anaconda/envs/py35/lib/python3.5/asyncio/base_events.py\", line 1425, in _run_once\n",
      "    handle._run()\n",
      "  File \"/anaconda/envs/py35/lib/python3.5/asyncio/events.py\", line 127, in _run\n",
      "    self._callback(*self._args)\n",
      "  File \"/anaconda/envs/py35/lib/python3.5/site-packages/tornado/ioloop.py\", line 759, in _run_callback\n",
      "    ret = callback()\n",
      "  File \"/anaconda/envs/py35/lib/python3.5/site-packages/tornado/stack_context.py\", line 276, in null_wrapper\n",
      "    return fn(*args, **kwargs)\n",
      "  File \"/anaconda/envs/py35/lib/python3.5/site-packages/zmq/eventloop/zmqstream.py\", line 536, in <lambda>\n",
      "    self.io_loop.add_callback(lambda : self._handle_events(self.socket, 0))\n",
      "  File \"/anaconda/envs/py35/lib/python3.5/site-packages/zmq/eventloop/zmqstream.py\", line 450, in _handle_events\n",
      "    self._handle_recv()\n",
      "  File \"/anaconda/envs/py35/lib/python3.5/site-packages/zmq/eventloop/zmqstream.py\", line 480, in _handle_recv\n",
      "    self._run_callback(callback, msg)\n",
      "  File \"/anaconda/envs/py35/lib/python3.5/site-packages/zmq/eventloop/zmqstream.py\", line 432, in _run_callback\n",
      "    callback(*args, **kwargs)\n",
      "  File \"/anaconda/envs/py35/lib/python3.5/site-packages/tornado/stack_context.py\", line 276, in null_wrapper\n",
      "    return fn(*args, **kwargs)\n",
      "  File \"/anaconda/envs/py35/lib/python3.5/site-packages/ipykernel/kernelbase.py\", line 283, in dispatcher\n",
      "    return self.dispatch_shell(stream, msg)\n",
      "  File \"/anaconda/envs/py35/lib/python3.5/site-packages/ipykernel/kernelbase.py\", line 233, in dispatch_shell\n",
      "    handler(stream, idents, msg)\n",
      "  File \"/anaconda/envs/py35/lib/python3.5/site-packages/ipykernel/kernelbase.py\", line 399, in execute_request\n",
      "    user_expressions, allow_stdin)\n",
      "  File \"/anaconda/envs/py35/lib/python3.5/site-packages/ipykernel/ipkernel.py\", line 208, in do_execute\n",
      "    res = shell.run_cell(code, store_history=store_history, silent=silent)\n",
      "  File \"/anaconda/envs/py35/lib/python3.5/site-packages/ipykernel/zmqshell.py\", line 537, in run_cell\n",
      "    return super(ZMQInteractiveShell, self).run_cell(*args, **kwargs)\n",
      "  File \"/anaconda/envs/py35/lib/python3.5/site-packages/IPython/core/interactiveshell.py\", line 2662, in run_cell\n",
      "    raw_cell, store_history, silent, shell_futures)\n",
      "  File \"/anaconda/envs/py35/lib/python3.5/site-packages/IPython/core/interactiveshell.py\", line 2785, in _run_cell\n",
      "    interactivity=interactivity, compiler=compiler, result=result)\n",
      "  File \"/anaconda/envs/py35/lib/python3.5/site-packages/IPython/core/interactiveshell.py\", line 2909, in run_ast_nodes\n",
      "    if self.run_code(code, result):\n",
      "  File \"/anaconda/envs/py35/lib/python3.5/site-packages/IPython/core/interactiveshell.py\", line 2963, in run_code\n",
      "    exec(code_obj, self.user_global_ns, self.user_ns)\n",
      "  File \"<ipython-input-3-0f0a85121700>\", line 2, in <module>\n",
      "    get_ipython().run_line_magic('matplotlib', 'inline')\n",
      "  File \"/anaconda/envs/py35/lib/python3.5/site-packages/IPython/core/interactiveshell.py\", line 2131, in run_line_magic\n",
      "    result = fn(*args,**kwargs)\n",
      "  File \"<decorator-gen-107>\", line 2, in matplotlib\n",
      "  File \"/anaconda/envs/py35/lib/python3.5/site-packages/IPython/core/magic.py\", line 187, in <lambda>\n",
      "    call = lambda f, *a, **k: f(*a, **k)\n",
      "  File \"/anaconda/envs/py35/lib/python3.5/site-packages/IPython/core/magics/pylab.py\", line 99, in matplotlib\n",
      "    gui, backend = self.shell.enable_matplotlib(args.gui)\n",
      "  File \"/anaconda/envs/py35/lib/python3.5/site-packages/IPython/core/interactiveshell.py\", line 3051, in enable_matplotlib\n",
      "    pt.activate_matplotlib(backend)\n",
      "  File \"/anaconda/envs/py35/lib/python3.5/site-packages/IPython/core/pylabtools.py\", line 311, in activate_matplotlib\n",
      "    matplotlib.pyplot.switch_backend(backend)\n",
      "  File \"/anaconda/envs/py35/lib/python3.5/site-packages/matplotlib/pyplot.py\", line 231, in switch_backend\n",
      "    matplotlib.use(newbackend, warn=False, force=True)\n",
      "  File \"/anaconda/envs/py35/lib/python3.5/site-packages/matplotlib/__init__.py\", line 1410, in use\n",
      "    reload(sys.modules['matplotlib.backends'])\n",
      "  File \"/anaconda/envs/py35/lib/python3.5/importlib/__init__.py\", line 166, in reload\n",
      "    _bootstrap._exec(spec, module)\n",
      "  File \"/anaconda/envs/py35/lib/python3.5/site-packages/matplotlib/backends/__init__.py\", line 16, in <module>\n",
      "    line for line in traceback.format_stack()\n",
      "\n",
      "\n",
      "  import matplotlib; matplotlib.use('Agg')  # pylint: disable=multiple-statements\n"
     ]
    }
   ],
   "source": [
    "from object_detection.utils import label_map_util\n",
    "\n",
    "from object_detection.utils import visualization_utils as vis_util"
   ]
  },
  {
   "cell_type": "markdown",
   "metadata": {
    "colab_type": "text",
    "id": "cfn_tRFOWKMO"
   },
   "source": [
    "# Model preparation "
   ]
  },
  {
   "cell_type": "markdown",
   "metadata": {
    "colab_type": "text",
    "id": "X_sEBLpVWKMQ"
   },
   "source": [
    "## Variables\n",
    "\n",
    "Any model exported using the `export_inference_graph.py` tool can be loaded here simply by changing `PATH_TO_FROZEN_GRAPH` to point to a new .pb file.  \n",
    "\n",
    "By default we use an \"SSD with Mobilenet\" model here. See the [detection model zoo](https://github.com/tensorflow/models/blob/master/research/object_detection/g3doc/detection_model_zoo.md) for a list of other models that can be run out-of-the-box with varying speeds and accuracies."
   ]
  },
  {
   "cell_type": "code",
   "execution_count": 5,
   "metadata": {},
   "outputs": [],
   "source": [
    "#ssd_mobilenet\n",
    "FINE_TUNED_MODEL_DIR='fishdata/fine_tuned_trained_models/fish_ssd_mobilenet_v1_coco'\n",
    "\n",
    "#FasterRccn\n",
    "#FINE_TUNED_MODEL_DIR='fishdata/fine_tuned_trained_models/fish_faster_rcnn_resnet50_coco'\n",
    "\n",
    "# Path to frozen detection graph. This is the actual model that is used for the object detection.\n",
    "PATH_TO_FROZEN_GRAPH = FINE_TUNED_MODEL_DIR + '/frozen_inference_graph.pb'\n",
    "# List of the strings that is used to add correct label for each box.\n",
    "PATH_TO_LABELS = 'fishdata/Videos/video1_output/pascal_label_map.pbtxt'"
   ]
  },
  {
   "cell_type": "markdown",
   "metadata": {
    "colab_type": "text",
    "id": "YBcB9QHLWKMU"
   },
   "source": [
    "## Load a (frozen) Tensorflow model into memory."
   ]
  },
  {
   "cell_type": "code",
   "execution_count": 6,
   "metadata": {
    "colab": {
     "autoexec": {
      "startup": false,
      "wait_interval": 0
     }
    },
    "colab_type": "code",
    "id": "KezjCRVvWKMV"
   },
   "outputs": [],
   "source": [
    "detection_graph = tf.Graph()\n",
    "with detection_graph.as_default():\n",
    "  od_graph_def = tf.GraphDef()\n",
    "  with tf.gfile.GFile(PATH_TO_FROZEN_GRAPH, 'rb') as fid:\n",
    "    serialized_graph = fid.read()\n",
    "    od_graph_def.ParseFromString(serialized_graph)\n",
    "    tf.import_graph_def(od_graph_def, name='')"
   ]
  },
  {
   "cell_type": "markdown",
   "metadata": {
    "colab_type": "text",
    "id": "_1MVVTcLWKMW"
   },
   "source": [
    "## Loading label map\n",
    "Label maps map indices to category names, so that when our convolution network predicts `5`, we know that this corresponds to `airplane`.  Here we use internal utility functions, but anything that returns a dictionary mapping integers to appropriate string labels would be fine"
   ]
  },
  {
   "cell_type": "code",
   "execution_count": 7,
   "metadata": {
    "colab": {
     "autoexec": {
      "startup": false,
      "wait_interval": 0
     }
    },
    "colab_type": "code",
    "id": "hDbpHkiWWKMX"
   },
   "outputs": [],
   "source": [
    "category_index = label_map_util.create_category_index_from_labelmap(PATH_TO_LABELS, use_display_name=True)"
   ]
  },
  {
   "cell_type": "markdown",
   "metadata": {
    "colab_type": "text",
    "id": "EFsoUHvbWKMZ"
   },
   "source": [
    "## Helper code"
   ]
  },
  {
   "cell_type": "code",
   "execution_count": 8,
   "metadata": {
    "colab": {
     "autoexec": {
      "startup": false,
      "wait_interval": 0
     }
    },
    "colab_type": "code",
    "id": "aSlYc3JkWKMa"
   },
   "outputs": [],
   "source": [
    "def load_image_into_numpy_array(image):\n",
    "    print(image.size)\n",
    "    (im_width, im_height) = image.size\n",
    "    return np.array(image.getdata()).reshape(\n",
    "      (im_height, im_width, 3)).astype(np.uint8)"
   ]
  },
  {
   "cell_type": "markdown",
   "metadata": {
    "colab_type": "text",
    "id": "H0_1AGhrWKMc"
   },
   "source": [
    "# Detection"
   ]
  },
  {
   "cell_type": "code",
   "execution_count": 9,
   "metadata": {
    "colab": {
     "autoexec": {
      "startup": false,
      "wait_interval": 0
     }
    },
    "colab_type": "code",
    "id": "jG-zn5ykWKMd"
   },
   "outputs": [],
   "source": [
    "path = 'fishdata/test_Frames'\n",
    "TEST_IMAGE_PATHS=[]\n",
    "for i in range(0,26500,250):\n",
    "    TEST_IMAGE_PATHS.append(os.path.join(path,'frame_%d.jpg' %i) )\n",
    "\n",
    "\n",
    "# Size, in inches, of the output images.\n",
    "IMAGE_SIZE = (12, 8)"
   ]
  },
  {
   "cell_type": "code",
   "execution_count": 10,
   "metadata": {
    "colab": {
     "autoexec": {
      "startup": false,
      "wait_interval": 0
     }
    },
    "colab_type": "code",
    "id": "92BHxzcNWKMf"
   },
   "outputs": [],
   "source": [
    "def run_inference_for_single_image(image, graph):\n",
    "  with graph.as_default():\n",
    "    with tf.Session() as sess:\n",
    "      # Get handles to input and output tensors\n",
    "      ops = tf.get_default_graph().get_operations()\n",
    "      all_tensor_names = {output.name for op in ops for output in op.outputs}\n",
    "      tensor_dict = {}\n",
    "      for key in [\n",
    "          'num_detections', 'detection_boxes', 'detection_scores',\n",
    "          'detection_classes', 'detection_masks'\n",
    "      ]:\n",
    "        tensor_name = key + ':0'\n",
    "        if tensor_name in all_tensor_names:\n",
    "          tensor_dict[key] = tf.get_default_graph().get_tensor_by_name(\n",
    "              tensor_name)\n",
    "      if 'detection_masks' in tensor_dict:\n",
    "        # The following processing is only for single image\n",
    "        detection_boxes = tf.squeeze(tensor_dict['detection_boxes'], [0])\n",
    "        detection_masks = tf.squeeze(tensor_dict['detection_masks'], [0])\n",
    "        # Reframe is required to translate mask from box coordinates to image coordinates and fit the image size.\n",
    "        real_num_detection = tf.cast(tensor_dict['num_detections'][0], tf.int32)\n",
    "        detection_boxes = tf.slice(detection_boxes, [0, 0], [real_num_detection, -1])\n",
    "        detection_masks = tf.slice(detection_masks, [0, 0, 0], [real_num_detection, -1, -1])\n",
    "        detection_masks_reframed = utils_ops.reframe_box_masks_to_image_masks(\n",
    "            detection_masks, detection_boxes, image.shape[0], image.shape[1])\n",
    "        detection_masks_reframed = tf.cast(\n",
    "            tf.greater(detection_masks_reframed, 0.5), tf.uint8)\n",
    "        # Follow the convention by adding back the batch dimension\n",
    "        tensor_dict['detection_masks'] = tf.expand_dims(\n",
    "            detection_masks_reframed, 0)\n",
    "      image_tensor = tf.get_default_graph().get_tensor_by_name('image_tensor:0')\n",
    "\n",
    "      # Run inference\n",
    "      output_dict = sess.run(tensor_dict,\n",
    "                             feed_dict={image_tensor: np.expand_dims(image, 0)})\n",
    "\n",
    "      # all outputs are float32 numpy arrays, so convert types as appropriate\n",
    "      output_dict['num_detections'] = int(output_dict['num_detections'][0])\n",
    "      output_dict['detection_classes'] = output_dict[\n",
    "          'detection_classes'][0].astype(np.uint8)\n",
    "      output_dict['detection_boxes'] = output_dict['detection_boxes'][0]\n",
    "      output_dict['detection_scores'] = output_dict['detection_scores'][0]\n",
    "      if 'detection_masks' in output_dict:\n",
    "        output_dict['detection_masks'] = output_dict['detection_masks'][0]\n",
    "  return output_dict"
   ]
  },
  {
   "cell_type": "code",
   "execution_count": 11,
   "metadata": {},
   "outputs": [],
   "source": [
    "#ssd_mobilenet\n",
    "resultpath = 'fishdata/test_Frames_ssd_mobilenet_result'\n",
    "\n",
    "#FasterRccn\n",
    "#resultpath = 'fishdata/test_Frames_fastrcnn_result'\n",
    "!  mkdir -p {resultpath}\n"
   ]
  },
  {
   "cell_type": "code",
   "execution_count": 12,
   "metadata": {
    "colab": {
     "autoexec": {
      "startup": false,
      "wait_interval": 0
     }
    },
    "colab_type": "code",
    "id": "3a5wMHN8WKMh",
    "scrolled": false
   },
   "outputs": [
    {
     "name": "stdout",
     "output_type": "stream",
     "text": [
      "image_path: fishdata/test_Frames/frame_0.jpg\n",
      "(1920, 1080)\n",
      "resul_image_path: fishdata/test_Frames_ssd_mobilenet_result/frame_0.jpg\n",
      "image_path: fishdata/test_Frames/frame_250.jpg\n",
      "(1920, 1080)\n",
      "resul_image_path: fishdata/test_Frames_ssd_mobilenet_result/frame_250.jpg\n",
      "image_path: fishdata/test_Frames/frame_500.jpg\n",
      "(1920, 1080)\n",
      "resul_image_path: fishdata/test_Frames_ssd_mobilenet_result/frame_500.jpg\n",
      "image_path: fishdata/test_Frames/frame_750.jpg\n",
      "(1920, 1080)\n",
      "resul_image_path: fishdata/test_Frames_ssd_mobilenet_result/frame_750.jpg\n",
      "image_path: fishdata/test_Frames/frame_1000.jpg\n",
      "(1920, 1080)\n",
      "resul_image_path: fishdata/test_Frames_ssd_mobilenet_result/frame_1000.jpg\n",
      "image_path: fishdata/test_Frames/frame_1250.jpg\n",
      "(1920, 1080)\n",
      "resul_image_path: fishdata/test_Frames_ssd_mobilenet_result/frame_1250.jpg\n",
      "image_path: fishdata/test_Frames/frame_1500.jpg\n",
      "(1920, 1080)\n",
      "resul_image_path: fishdata/test_Frames_ssd_mobilenet_result/frame_1500.jpg\n",
      "image_path: fishdata/test_Frames/frame_1750.jpg\n",
      "(1920, 1080)\n",
      "resul_image_path: fishdata/test_Frames_ssd_mobilenet_result/frame_1750.jpg\n",
      "image_path: fishdata/test_Frames/frame_2000.jpg\n",
      "(1920, 1080)\n",
      "resul_image_path: fishdata/test_Frames_ssd_mobilenet_result/frame_2000.jpg\n",
      "image_path: fishdata/test_Frames/frame_2250.jpg\n",
      "(1920, 1080)\n",
      "resul_image_path: fishdata/test_Frames_ssd_mobilenet_result/frame_2250.jpg\n",
      "image_path: fishdata/test_Frames/frame_2500.jpg\n",
      "(1920, 1080)\n",
      "resul_image_path: fishdata/test_Frames_ssd_mobilenet_result/frame_2500.jpg\n",
      "image_path: fishdata/test_Frames/frame_2750.jpg\n",
      "(1920, 1080)\n",
      "resul_image_path: fishdata/test_Frames_ssd_mobilenet_result/frame_2750.jpg\n",
      "image_path: fishdata/test_Frames/frame_3000.jpg\n",
      "(1920, 1080)\n",
      "resul_image_path: fishdata/test_Frames_ssd_mobilenet_result/frame_3000.jpg\n",
      "image_path: fishdata/test_Frames/frame_3250.jpg\n",
      "(1920, 1080)\n",
      "resul_image_path: fishdata/test_Frames_ssd_mobilenet_result/frame_3250.jpg\n",
      "image_path: fishdata/test_Frames/frame_3500.jpg\n",
      "(1920, 1080)\n",
      "resul_image_path: fishdata/test_Frames_ssd_mobilenet_result/frame_3500.jpg\n",
      "image_path: fishdata/test_Frames/frame_3750.jpg\n",
      "(1920, 1080)\n",
      "resul_image_path: fishdata/test_Frames_ssd_mobilenet_result/frame_3750.jpg\n",
      "image_path: fishdata/test_Frames/frame_4000.jpg\n",
      "(1920, 1080)\n",
      "resul_image_path: fishdata/test_Frames_ssd_mobilenet_result/frame_4000.jpg\n",
      "image_path: fishdata/test_Frames/frame_4250.jpg\n",
      "(1920, 1080)\n",
      "resul_image_path: fishdata/test_Frames_ssd_mobilenet_result/frame_4250.jpg\n",
      "image_path: fishdata/test_Frames/frame_4500.jpg\n",
      "(1920, 1080)\n",
      "resul_image_path: fishdata/test_Frames_ssd_mobilenet_result/frame_4500.jpg\n",
      "image_path: fishdata/test_Frames/frame_4750.jpg\n",
      "(1920, 1080)\n",
      "resul_image_path: fishdata/test_Frames_ssd_mobilenet_result/frame_4750.jpg\n",
      "image_path: fishdata/test_Frames/frame_5000.jpg\n",
      "(1920, 1080)\n",
      "resul_image_path: fishdata/test_Frames_ssd_mobilenet_result/frame_5000.jpg\n",
      "image_path: fishdata/test_Frames/frame_5250.jpg\n",
      "(1920, 1080)\n",
      "resul_image_path: fishdata/test_Frames_ssd_mobilenet_result/frame_5250.jpg\n",
      "image_path: fishdata/test_Frames/frame_5500.jpg\n",
      "(1920, 1080)\n",
      "resul_image_path: fishdata/test_Frames_ssd_mobilenet_result/frame_5500.jpg\n",
      "image_path: fishdata/test_Frames/frame_5750.jpg\n",
      "(1920, 1080)\n",
      "resul_image_path: fishdata/test_Frames_ssd_mobilenet_result/frame_5750.jpg\n",
      "image_path: fishdata/test_Frames/frame_6000.jpg\n",
      "(1920, 1080)\n",
      "resul_image_path: fishdata/test_Frames_ssd_mobilenet_result/frame_6000.jpg\n",
      "image_path: fishdata/test_Frames/frame_6250.jpg\n",
      "(1920, 1080)\n",
      "resul_image_path: fishdata/test_Frames_ssd_mobilenet_result/frame_6250.jpg\n",
      "image_path: fishdata/test_Frames/frame_6500.jpg\n",
      "(1920, 1080)\n",
      "resul_image_path: fishdata/test_Frames_ssd_mobilenet_result/frame_6500.jpg\n",
      "image_path: fishdata/test_Frames/frame_6750.jpg\n",
      "(1920, 1080)\n",
      "resul_image_path: fishdata/test_Frames_ssd_mobilenet_result/frame_6750.jpg\n",
      "image_path: fishdata/test_Frames/frame_7000.jpg\n",
      "(1920, 1080)\n",
      "resul_image_path: fishdata/test_Frames_ssd_mobilenet_result/frame_7000.jpg\n",
      "image_path: fishdata/test_Frames/frame_7250.jpg\n",
      "(1920, 1080)\n",
      "resul_image_path: fishdata/test_Frames_ssd_mobilenet_result/frame_7250.jpg\n",
      "image_path: fishdata/test_Frames/frame_7500.jpg\n",
      "(1920, 1080)\n",
      "resul_image_path: fishdata/test_Frames_ssd_mobilenet_result/frame_7500.jpg\n",
      "image_path: fishdata/test_Frames/frame_7750.jpg\n",
      "(1920, 1080)\n",
      "resul_image_path: fishdata/test_Frames_ssd_mobilenet_result/frame_7750.jpg\n",
      "image_path: fishdata/test_Frames/frame_8000.jpg\n",
      "(1920, 1080)\n",
      "resul_image_path: fishdata/test_Frames_ssd_mobilenet_result/frame_8000.jpg\n",
      "image_path: fishdata/test_Frames/frame_8250.jpg\n",
      "(1920, 1080)\n",
      "resul_image_path: fishdata/test_Frames_ssd_mobilenet_result/frame_8250.jpg\n",
      "image_path: fishdata/test_Frames/frame_8500.jpg\n",
      "(1920, 1080)\n",
      "resul_image_path: fishdata/test_Frames_ssd_mobilenet_result/frame_8500.jpg\n",
      "image_path: fishdata/test_Frames/frame_8750.jpg\n",
      "(1920, 1080)\n",
      "resul_image_path: fishdata/test_Frames_ssd_mobilenet_result/frame_8750.jpg\n",
      "image_path: fishdata/test_Frames/frame_9000.jpg\n",
      "(1920, 1080)\n",
      "resul_image_path: fishdata/test_Frames_ssd_mobilenet_result/frame_9000.jpg\n",
      "image_path: fishdata/test_Frames/frame_9250.jpg\n",
      "(1920, 1080)\n",
      "resul_image_path: fishdata/test_Frames_ssd_mobilenet_result/frame_9250.jpg\n",
      "image_path: fishdata/test_Frames/frame_9500.jpg\n",
      "(1920, 1080)\n",
      "resul_image_path: fishdata/test_Frames_ssd_mobilenet_result/frame_9500.jpg\n",
      "image_path: fishdata/test_Frames/frame_9750.jpg\n",
      "(1920, 1080)\n",
      "resul_image_path: fishdata/test_Frames_ssd_mobilenet_result/frame_9750.jpg\n",
      "image_path: fishdata/test_Frames/frame_10000.jpg\n",
      "(1920, 1080)\n",
      "resul_image_path: fishdata/test_Frames_ssd_mobilenet_result/frame_10000.jpg\n",
      "image_path: fishdata/test_Frames/frame_10250.jpg\n",
      "(1920, 1080)\n",
      "resul_image_path: fishdata/test_Frames_ssd_mobilenet_result/frame_10250.jpg\n",
      "image_path: fishdata/test_Frames/frame_10500.jpg\n",
      "(1920, 1080)\n",
      "resul_image_path: fishdata/test_Frames_ssd_mobilenet_result/frame_10500.jpg\n",
      "image_path: fishdata/test_Frames/frame_10750.jpg\n",
      "(1920, 1080)\n",
      "resul_image_path: fishdata/test_Frames_ssd_mobilenet_result/frame_10750.jpg\n",
      "image_path: fishdata/test_Frames/frame_11000.jpg\n",
      "(1920, 1080)\n",
      "resul_image_path: fishdata/test_Frames_ssd_mobilenet_result/frame_11000.jpg\n",
      "image_path: fishdata/test_Frames/frame_11250.jpg\n",
      "(1920, 1080)\n",
      "resul_image_path: fishdata/test_Frames_ssd_mobilenet_result/frame_11250.jpg\n",
      "image_path: fishdata/test_Frames/frame_11500.jpg\n",
      "(1920, 1080)\n",
      "resul_image_path: fishdata/test_Frames_ssd_mobilenet_result/frame_11500.jpg\n",
      "image_path: fishdata/test_Frames/frame_11750.jpg\n",
      "(1920, 1080)\n",
      "resul_image_path: fishdata/test_Frames_ssd_mobilenet_result/frame_11750.jpg\n",
      "image_path: fishdata/test_Frames/frame_12000.jpg\n",
      "(1920, 1080)\n",
      "resul_image_path: fishdata/test_Frames_ssd_mobilenet_result/frame_12000.jpg\n",
      "image_path: fishdata/test_Frames/frame_12250.jpg\n",
      "(1920, 1080)\n",
      "resul_image_path: fishdata/test_Frames_ssd_mobilenet_result/frame_12250.jpg\n",
      "image_path: fishdata/test_Frames/frame_12500.jpg\n",
      "(1920, 1080)\n",
      "resul_image_path: fishdata/test_Frames_ssd_mobilenet_result/frame_12500.jpg\n",
      "image_path: fishdata/test_Frames/frame_12750.jpg\n",
      "(1920, 1080)\n",
      "resul_image_path: fishdata/test_Frames_ssd_mobilenet_result/frame_12750.jpg\n",
      "image_path: fishdata/test_Frames/frame_13000.jpg\n",
      "(1920, 1080)\n",
      "resul_image_path: fishdata/test_Frames_ssd_mobilenet_result/frame_13000.jpg\n",
      "image_path: fishdata/test_Frames/frame_13250.jpg\n",
      "(1920, 1080)\n",
      "resul_image_path: fishdata/test_Frames_ssd_mobilenet_result/frame_13250.jpg\n",
      "image_path: fishdata/test_Frames/frame_13500.jpg\n",
      "(1920, 1080)\n",
      "resul_image_path: fishdata/test_Frames_ssd_mobilenet_result/frame_13500.jpg\n",
      "image_path: fishdata/test_Frames/frame_13750.jpg\n",
      "(1920, 1080)\n",
      "resul_image_path: fishdata/test_Frames_ssd_mobilenet_result/frame_13750.jpg\n",
      "image_path: fishdata/test_Frames/frame_14000.jpg\n",
      "(1920, 1080)\n",
      "resul_image_path: fishdata/test_Frames_ssd_mobilenet_result/frame_14000.jpg\n",
      "image_path: fishdata/test_Frames/frame_14250.jpg\n",
      "(1920, 1080)\n",
      "resul_image_path: fishdata/test_Frames_ssd_mobilenet_result/frame_14250.jpg\n",
      "image_path: fishdata/test_Frames/frame_14500.jpg\n",
      "(1920, 1080)\n",
      "resul_image_path: fishdata/test_Frames_ssd_mobilenet_result/frame_14500.jpg\n",
      "image_path: fishdata/test_Frames/frame_14750.jpg\n",
      "(1920, 1080)\n",
      "resul_image_path: fishdata/test_Frames_ssd_mobilenet_result/frame_14750.jpg\n",
      "image_path: fishdata/test_Frames/frame_15000.jpg\n",
      "(1920, 1080)\n"
     ]
    },
    {
     "name": "stdout",
     "output_type": "stream",
     "text": [
      "resul_image_path: fishdata/test_Frames_ssd_mobilenet_result/frame_15000.jpg\n",
      "image_path: fishdata/test_Frames/frame_15250.jpg\n",
      "(1920, 1080)\n",
      "resul_image_path: fishdata/test_Frames_ssd_mobilenet_result/frame_15250.jpg\n",
      "image_path: fishdata/test_Frames/frame_15500.jpg\n",
      "(1920, 1080)\n",
      "resul_image_path: fishdata/test_Frames_ssd_mobilenet_result/frame_15500.jpg\n",
      "image_path: fishdata/test_Frames/frame_15750.jpg\n",
      "(1920, 1080)\n",
      "resul_image_path: fishdata/test_Frames_ssd_mobilenet_result/frame_15750.jpg\n",
      "image_path: fishdata/test_Frames/frame_16000.jpg\n",
      "(1920, 1080)\n",
      "resul_image_path: fishdata/test_Frames_ssd_mobilenet_result/frame_16000.jpg\n",
      "image_path: fishdata/test_Frames/frame_16250.jpg\n",
      "(1920, 1080)\n",
      "resul_image_path: fishdata/test_Frames_ssd_mobilenet_result/frame_16250.jpg\n",
      "image_path: fishdata/test_Frames/frame_16500.jpg\n",
      "(1920, 1080)\n",
      "resul_image_path: fishdata/test_Frames_ssd_mobilenet_result/frame_16500.jpg\n",
      "image_path: fishdata/test_Frames/frame_16750.jpg\n",
      "(1920, 1080)\n",
      "resul_image_path: fishdata/test_Frames_ssd_mobilenet_result/frame_16750.jpg\n",
      "image_path: fishdata/test_Frames/frame_17000.jpg\n",
      "(1920, 1080)\n",
      "resul_image_path: fishdata/test_Frames_ssd_mobilenet_result/frame_17000.jpg\n",
      "image_path: fishdata/test_Frames/frame_17250.jpg\n",
      "(1920, 1080)\n",
      "resul_image_path: fishdata/test_Frames_ssd_mobilenet_result/frame_17250.jpg\n",
      "image_path: fishdata/test_Frames/frame_17500.jpg\n",
      "(1920, 1080)\n",
      "resul_image_path: fishdata/test_Frames_ssd_mobilenet_result/frame_17500.jpg\n",
      "image_path: fishdata/test_Frames/frame_17750.jpg\n",
      "(1920, 1080)\n",
      "resul_image_path: fishdata/test_Frames_ssd_mobilenet_result/frame_17750.jpg\n",
      "image_path: fishdata/test_Frames/frame_18000.jpg\n",
      "(1920, 1080)\n",
      "resul_image_path: fishdata/test_Frames_ssd_mobilenet_result/frame_18000.jpg\n",
      "image_path: fishdata/test_Frames/frame_18250.jpg\n",
      "(1920, 1080)\n",
      "resul_image_path: fishdata/test_Frames_ssd_mobilenet_result/frame_18250.jpg\n",
      "image_path: fishdata/test_Frames/frame_18500.jpg\n",
      "(1920, 1080)\n",
      "resul_image_path: fishdata/test_Frames_ssd_mobilenet_result/frame_18500.jpg\n",
      "image_path: fishdata/test_Frames/frame_18750.jpg\n",
      "(1920, 1080)\n",
      "resul_image_path: fishdata/test_Frames_ssd_mobilenet_result/frame_18750.jpg\n",
      "image_path: fishdata/test_Frames/frame_19000.jpg\n",
      "(1920, 1080)\n",
      "resul_image_path: fishdata/test_Frames_ssd_mobilenet_result/frame_19000.jpg\n",
      "image_path: fishdata/test_Frames/frame_19250.jpg\n",
      "(1920, 1080)\n",
      "resul_image_path: fishdata/test_Frames_ssd_mobilenet_result/frame_19250.jpg\n",
      "image_path: fishdata/test_Frames/frame_19500.jpg\n",
      "(1920, 1080)\n",
      "resul_image_path: fishdata/test_Frames_ssd_mobilenet_result/frame_19500.jpg\n",
      "image_path: fishdata/test_Frames/frame_19750.jpg\n",
      "(1920, 1080)\n",
      "resul_image_path: fishdata/test_Frames_ssd_mobilenet_result/frame_19750.jpg\n",
      "image_path: fishdata/test_Frames/frame_20000.jpg\n",
      "(1920, 1080)\n",
      "resul_image_path: fishdata/test_Frames_ssd_mobilenet_result/frame_20000.jpg\n",
      "image_path: fishdata/test_Frames/frame_20250.jpg\n",
      "(1920, 1080)\n",
      "resul_image_path: fishdata/test_Frames_ssd_mobilenet_result/frame_20250.jpg\n",
      "image_path: fishdata/test_Frames/frame_20500.jpg\n",
      "(1920, 1080)\n",
      "resul_image_path: fishdata/test_Frames_ssd_mobilenet_result/frame_20500.jpg\n",
      "image_path: fishdata/test_Frames/frame_20750.jpg\n",
      "(1920, 1080)\n",
      "resul_image_path: fishdata/test_Frames_ssd_mobilenet_result/frame_20750.jpg\n",
      "image_path: fishdata/test_Frames/frame_21000.jpg\n",
      "(1920, 1080)\n",
      "resul_image_path: fishdata/test_Frames_ssd_mobilenet_result/frame_21000.jpg\n",
      "image_path: fishdata/test_Frames/frame_21250.jpg\n",
      "(1920, 1080)\n",
      "resul_image_path: fishdata/test_Frames_ssd_mobilenet_result/frame_21250.jpg\n",
      "image_path: fishdata/test_Frames/frame_21500.jpg\n",
      "(1920, 1080)\n",
      "resul_image_path: fishdata/test_Frames_ssd_mobilenet_result/frame_21500.jpg\n",
      "image_path: fishdata/test_Frames/frame_21750.jpg\n",
      "(1920, 1080)\n",
      "resul_image_path: fishdata/test_Frames_ssd_mobilenet_result/frame_21750.jpg\n",
      "image_path: fishdata/test_Frames/frame_22000.jpg\n",
      "(1920, 1080)\n",
      "resul_image_path: fishdata/test_Frames_ssd_mobilenet_result/frame_22000.jpg\n",
      "image_path: fishdata/test_Frames/frame_22250.jpg\n",
      "(1920, 1080)\n",
      "resul_image_path: fishdata/test_Frames_ssd_mobilenet_result/frame_22250.jpg\n",
      "image_path: fishdata/test_Frames/frame_22500.jpg\n",
      "(1920, 1080)\n",
      "resul_image_path: fishdata/test_Frames_ssd_mobilenet_result/frame_22500.jpg\n",
      "image_path: fishdata/test_Frames/frame_22750.jpg\n",
      "(1920, 1080)\n",
      "resul_image_path: fishdata/test_Frames_ssd_mobilenet_result/frame_22750.jpg\n",
      "image_path: fishdata/test_Frames/frame_23000.jpg\n",
      "(1920, 1080)\n",
      "resul_image_path: fishdata/test_Frames_ssd_mobilenet_result/frame_23000.jpg\n",
      "image_path: fishdata/test_Frames/frame_23250.jpg\n",
      "(1920, 1080)\n",
      "resul_image_path: fishdata/test_Frames_ssd_mobilenet_result/frame_23250.jpg\n",
      "image_path: fishdata/test_Frames/frame_23500.jpg\n",
      "(1920, 1080)\n",
      "resul_image_path: fishdata/test_Frames_ssd_mobilenet_result/frame_23500.jpg\n",
      "image_path: fishdata/test_Frames/frame_23750.jpg\n",
      "(1920, 1080)\n",
      "resul_image_path: fishdata/test_Frames_ssd_mobilenet_result/frame_23750.jpg\n",
      "image_path: fishdata/test_Frames/frame_24000.jpg\n",
      "(1920, 1080)\n",
      "resul_image_path: fishdata/test_Frames_ssd_mobilenet_result/frame_24000.jpg\n",
      "image_path: fishdata/test_Frames/frame_24250.jpg\n",
      "(1920, 1080)\n",
      "resul_image_path: fishdata/test_Frames_ssd_mobilenet_result/frame_24250.jpg\n",
      "image_path: fishdata/test_Frames/frame_24500.jpg\n",
      "(1920, 1080)\n",
      "resul_image_path: fishdata/test_Frames_ssd_mobilenet_result/frame_24500.jpg\n",
      "image_path: fishdata/test_Frames/frame_24750.jpg\n",
      "(1920, 1080)\n",
      "resul_image_path: fishdata/test_Frames_ssd_mobilenet_result/frame_24750.jpg\n",
      "image_path: fishdata/test_Frames/frame_25000.jpg\n",
      "(1920, 1080)\n",
      "resul_image_path: fishdata/test_Frames_ssd_mobilenet_result/frame_25000.jpg\n",
      "image_path: fishdata/test_Frames/frame_25250.jpg\n",
      "(1920, 1080)\n",
      "resul_image_path: fishdata/test_Frames_ssd_mobilenet_result/frame_25250.jpg\n",
      "image_path: fishdata/test_Frames/frame_25500.jpg\n",
      "(1920, 1080)\n",
      "resul_image_path: fishdata/test_Frames_ssd_mobilenet_result/frame_25500.jpg\n",
      "image_path: fishdata/test_Frames/frame_25750.jpg\n",
      "(1920, 1080)\n",
      "resul_image_path: fishdata/test_Frames_ssd_mobilenet_result/frame_25750.jpg\n",
      "image_path: fishdata/test_Frames/frame_26000.jpg\n",
      "(1920, 1080)\n",
      "resul_image_path: fishdata/test_Frames_ssd_mobilenet_result/frame_26000.jpg\n",
      "image_path: fishdata/test_Frames/frame_26250.jpg\n",
      "(1920, 1080)\n",
      "resul_image_path: fishdata/test_Frames_ssd_mobilenet_result/frame_26250.jpg\n"
     ]
    }
   ],
   "source": [
    "import os\n",
    "\n",
    "\n",
    "for image_path in TEST_IMAGE_PATHS:\n",
    "    print('image_path:',image_path)\n",
    "    image = Image.open(image_path)\n",
    "    # the array based representation of the image will be used later in order to prepare the\n",
    "    # result image with boxes and labels on it.\n",
    "    image_np = load_image_into_numpy_array(image)\n",
    "    # Expand dimensions since the model expects images to have shape: [1, None, None, 3]\n",
    "    image_np_expanded = np.expand_dims(image_np, axis=0)\n",
    "    # Actual detection.\n",
    "    output_dict = run_inference_for_single_image(image_np, detection_graph)\n",
    "    # Visualization of the results of a detection.\n",
    "    vis_util.visualize_boxes_and_labels_on_image_array(\n",
    "      image_np,\n",
    "      output_dict['detection_boxes'],\n",
    "      output_dict['detection_classes'],\n",
    "      output_dict['detection_scores'],\n",
    "      category_index,\n",
    "      instance_masks=output_dict.get('detection_masks'),\n",
    "      use_normalized_coordinates=True,\n",
    "      line_thickness=8)\n",
    "    head, tail = os.path.split(image_path)\n",
    "    resul_image_path=os.path.join(resultpath,tail)\n",
    "    print('resul_image_path:',resul_image_path)\n",
    "    resultImage = Image.fromarray(image_np)\n",
    "    resultImage.save(resul_image_path)\n",
    "    \n",
    "  #plt.figure(figsize=IMAGE_SIZE)\n",
    "  #plt.imshow(image_np)"
   ]
  },
  {
   "cell_type": "code",
   "execution_count": 13,
   "metadata": {},
   "outputs": [
    {
     "name": "stdout",
     "output_type": "stream",
     "text": [
      "frame_0.jpg\t frame_15750.jpg  frame_22000.jpg  frame_4250.jpg\r\n",
      "frame_10000.jpg  frame_16000.jpg  frame_22250.jpg  frame_4500.jpg\r\n",
      "frame_1000.jpg\t frame_16250.jpg  frame_22500.jpg  frame_4750.jpg\r\n",
      "frame_10250.jpg  frame_16500.jpg  frame_2250.jpg   frame_5000.jpg\r\n",
      "frame_10500.jpg  frame_16750.jpg  frame_22750.jpg  frame_500.jpg\r\n",
      "frame_10750.jpg  frame_17000.jpg  frame_23000.jpg  frame_5250.jpg\r\n",
      "frame_11000.jpg  frame_17250.jpg  frame_23250.jpg  frame_5500.jpg\r\n",
      "frame_11250.jpg  frame_17500.jpg  frame_23500.jpg  frame_5750.jpg\r\n",
      "frame_11500.jpg  frame_1750.jpg   frame_23750.jpg  frame_6000.jpg\r\n",
      "frame_11750.jpg  frame_17750.jpg  frame_24000.jpg  frame_6250.jpg\r\n",
      "frame_12000.jpg  frame_18000.jpg  frame_24250.jpg  frame_6500.jpg\r\n",
      "frame_12250.jpg  frame_18250.jpg  frame_24500.jpg  frame_6750.jpg\r\n",
      "frame_12500.jpg  frame_18500.jpg  frame_24750.jpg  frame_7000.jpg\r\n",
      "frame_1250.jpg\t frame_18750.jpg  frame_25000.jpg  frame_7250.jpg\r\n",
      "frame_12750.jpg  frame_19000.jpg  frame_2500.jpg   frame_7500.jpg\r\n",
      "frame_13000.jpg  frame_19250.jpg  frame_250.jpg    frame_750.jpg\r\n",
      "frame_13250.jpg  frame_19500.jpg  frame_25250.jpg  frame_7750.jpg\r\n",
      "frame_13500.jpg  frame_19750.jpg  frame_25500.jpg  frame_8000.jpg\r\n",
      "frame_13750.jpg  frame_20000.jpg  frame_25750.jpg  frame_8250.jpg\r\n",
      "frame_14000.jpg  frame_2000.jpg   frame_26000.jpg  frame_8500.jpg\r\n",
      "frame_14250.jpg  frame_20250.jpg  frame_26250.jpg  frame_8750.jpg\r\n",
      "frame_14500.jpg  frame_20500.jpg  frame_2750.jpg   frame_9000.jpg\r\n",
      "frame_14750.jpg  frame_20750.jpg  frame_3000.jpg   frame_9250.jpg\r\n",
      "frame_15000.jpg  frame_21000.jpg  frame_3250.jpg   frame_9500.jpg\r\n",
      "frame_1500.jpg\t frame_21250.jpg  frame_3500.jpg   frame_9750.jpg\r\n",
      "frame_15250.jpg  frame_21500.jpg  frame_3750.jpg\r\n",
      "frame_15500.jpg  frame_21750.jpg  frame_4000.jpg\r\n"
     ]
    }
   ],
   "source": [
    "! ls {resultpath}"
   ]
  },
  {
   "cell_type": "code",
   "execution_count": null,
   "metadata": {},
   "outputs": [],
   "source": []
  }
 ],
 "metadata": {
  "colab": {
   "default_view": {},
   "name": "object_detection_tutorial.ipynb?workspaceId=ronnyvotel:python_inference::citc",
   "provenance": [],
   "version": "0.3.2",
   "views": {}
  },
  "kernelspec": {
   "display_name": "Python 3",
   "language": "python",
   "name": "python3"
  },
  "language_info": {
   "codemirror_mode": {
    "name": "ipython",
    "version": 3
   },
   "file_extension": ".py",
   "mimetype": "text/x-python",
   "name": "python",
   "nbconvert_exporter": "python",
   "pygments_lexer": "ipython3",
   "version": "3.5.5"
  }
 },
 "nbformat": 4,
 "nbformat_minor": 1
}
